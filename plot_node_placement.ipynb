{
 "cells": [
  {
   "cell_type": "code",
   "execution_count": null,
   "id": "9b35c0ad-37fc-4de5-9e87-52e5fd1194ce",
   "metadata": {},
   "outputs": [],
   "source": [
    "# Dependencies should be installed with miniconda/anaconda because some require native libraries that are tedious to build\n",
    "# $ conda env create -f environment.yml\n",
    "\n",
    "import geopandas as gp\n",
    "from shapely.geometry import Point, LineString\n",
    "import matplotlib.pyplot as plt\n",
    "import networkx as nx"
   ]
  },
  {
   "cell_type": "code",
   "execution_count": null,
   "id": "efbee9e9-07e9-4afb-aff5-02b866e1448a",
   "metadata": {},
   "outputs": [],
   "source": [
    "# Load the topology file\n",
    "\n",
    "g = nx.read_graphml(\"Cogentco.graphml\")\n",
    "nodes = {\"id\": [], \"geometry\": []}\n",
    "edges = []\n",
    "\n",
    "for node, attrs in g.nodes(data=True):\n",
    "    if \"Latitude\" not in attrs or \"Longitude\" not in attrs:\n",
    "        continue\n",
    "\n",
    "    lat1, lon1 = attrs[\"Longitude\"], attrs[\"Latitude\"]\n",
    "    nodes[\"id\"].append(int(node))\n",
    "    nodes[\"geometry\"].append(Point(lat1, lon1))\n",
    "\n",
    "    for src, dst in g.edges(node):\n",
    "        attrs = g.nodes[dst]\n",
    "\n",
    "        if \"Latitude\" not in attrs or \"Longitude\" not in attrs:\n",
    "            continue\n",
    "\n",
    "        lat2, lon2 = attrs[\"Longitude\"], attrs[\"Latitude\"]\n",
    "        edges.append(LineString([(lat1, lon1), (lat2, lon2)]))"
   ]
  },
  {
   "cell_type": "code",
   "execution_count": null,
   "id": "174040d1-4573-409b-b95b-66a198a39979",
   "metadata": {},
   "outputs": [],
   "source": [
    "# Load and clip the map. The map files are downloaded from: https://www.naturalearthdata.com/\n",
    "world = gp.read_file(\"ne_10m_admin_0_countries\")\n",
    "world = gp.clip(world, (-140, 0, 50, 75))"
   ]
  },
  {
   "cell_type": "code",
   "execution_count": null,
   "id": "9a59eb11-04b7-41e6-987c-1dfcf453378b",
   "metadata": {},
   "outputs": [],
   "source": [
    "base = world.plot(figsize=(20, 10), color=\"white\", edgecolor=(0.4, 0.4, 0.4))\n",
    "\n",
    "# Draw the edges\n",
    "gdf = gp.GeoSeries(edges)\n",
    "gdf.plot(ax=base, color=\"blue\", linewidth=1)\n",
    "\n",
    "# Draw the nodes\n",
    "gdf = gp.GeoDataFrame(nodes)\n",
    "# Add a new column indicating the color of each node. Nodes 146, 154, 159 are colored red in this case.\n",
    "gdf[\"color\"] = gdf[\"id\"].map(lambda i: \"red\" if i in [146, 154, 159] else \"black\")\n",
    "gdf.plot(ax=base, color=gdf[\"color\"], markersize=20, zorder=2)"
   ]
  }
 ],
 "metadata": {
  "kernelspec": {
   "display_name": "Python 3 (ipykernel)",
   "language": "python",
   "name": "python3"
  },
  "language_info": {
   "codemirror_mode": {
    "name": "ipython",
    "version": 3
   },
   "file_extension": ".py",
   "mimetype": "text/x-python",
   "name": "python",
   "nbconvert_exporter": "python",
   "pygments_lexer": "ipython3",
   "version": "3.11.4"
  }
 },
 "nbformat": 4,
 "nbformat_minor": 5
}
